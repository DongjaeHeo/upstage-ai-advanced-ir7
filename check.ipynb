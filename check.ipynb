{
 "cells": [
  {
   "cell_type": "code",
   "execution_count": 1,
   "metadata": {},
   "outputs": [],
   "source": [
    "import json\n",
    "import numpy as np\n",
    "import faiss\n",
    "from openai import OpenAI  # Upstage API 사용\n",
    "\n",
    "client = OpenAI(\n",
    "    api_key=\"up_3a0n6x50BZ1Fy057c9RXOVlzIMUEe\",\n",
    "    base_url=\"https://api.upstage.ai/v1/solar\"\n",
    ")"
   ]
  },
  {
   "cell_type": "code",
   "execution_count": 2,
   "metadata": {},
   "outputs": [],
   "source": [
    "def normalize(embeddings):\n",
    "    norms = np.linalg.norm(embeddings, axis=1, keepdims=True)\n",
    "    return embeddings / norms"
   ]
  },
  {
   "cell_type": "code",
   "execution_count": 6,
   "metadata": {},
   "outputs": [
    {
     "ename": "AttributeError",
     "evalue": "module 'faiss' has no attribute 'StandardGpuResources'",
     "output_type": "error",
     "traceback": [
      "\u001b[0;31m---------------------------------------------------------------------------\u001b[0m",
      "\u001b[0;31mAttributeError\u001b[0m                            Traceback (most recent call last)",
      "Cell \u001b[0;32mIn[6], line 3\u001b[0m\n\u001b[1;32m      1\u001b[0m \u001b[38;5;66;03m# FAISS 인덱스와 chunk-mapping 파일을 다시 로드\u001b[39;00m\n\u001b[0;32m----> 3\u001b[0m res \u001b[38;5;241m=\u001b[39m \u001b[43mfaiss\u001b[49m\u001b[38;5;241;43m.\u001b[39;49m\u001b[43mStandardGpuResources\u001b[49m()\n\u001b[1;32m      4\u001b[0m index \u001b[38;5;241m=\u001b[39m faiss\u001b[38;5;241m.\u001b[39mread_index(\u001b[38;5;124m\"\u001b[39m\u001b[38;5;124mknn_index_cosine.faiss\u001b[39m\u001b[38;5;124m\"\u001b[39m)\n\u001b[1;32m      6\u001b[0m gpu_index \u001b[38;5;241m=\u001b[39m faiss\u001b[38;5;241m.\u001b[39mindex_cpu_to_gpu(res, \u001b[38;5;241m0\u001b[39m, index)\n",
      "\u001b[0;31mAttributeError\u001b[0m: module 'faiss' has no attribute 'StandardGpuResources'"
     ]
    }
   ],
   "source": [
    "# FAISS 인덱스와 chunk-mapping 파일을 다시 로드\n",
    "\n",
    "res = faiss.StandardGpuResources()\n",
    "index = faiss.read_index(\"knn_index_cosine.faiss\")\n",
    "\n",
    "gpu_index = faiss.index_cpu_to_gpu(res, 0, index)\n",
    "\n",
    "with open(\"chunk_mappings.json\", \"r\") as f:\n",
    "    chunk_doc_mapping = json.load(f)\n",
    "\n",
    "# 쿼리 입력 후 Upstage API를 통해 임베딩 생성\n",
    "query = \"나무의 분류에 대해 조사해 보기 위한 방법은?\"\n",
    "query_result = client.embeddings.create(\n",
    "    model=\"solar-embedding-1-large-passage\",\n",
    "    input=query\n",
    ").data[0].embedding\n",
    "\n",
    "query_embedding = np.array(query_result).reshape(1, -1)\n",
    "\n",
    "# 쿼리 임베딩 정규화\n",
    "normalized_query = normalize(query_embedding)\n",
    "\n",
    "# KNN에서 가장 유사한 5개의 chunk 검색\n",
    "k = 5\n",
    "distances, indices = gpu_index.search(normalized_query, k)\n",
    "\n",
    "# 검색된 chunk 정보 확인 및 원본 문서 내용과 연결\n",
    "for idx in indices[0]:\n",
    "    chunk_info = chunk_doc_mapping[idx]\n",
    "    print(f\"검색된 Chunk ID: {chunk_info['chunk_id']}\")\n",
    "    print(f\"연관된 문서 ID: {chunk_info['doc_id']}\")\n",
    "    print(f\"Chunk 내용: {chunk_info['content']}\")\n",
    "    print(\"-\" * 50)"
   ]
  },
  {
   "cell_type": "code",
   "execution_count": null,
   "metadata": {},
   "outputs": [],
   "source": []
  }
 ],
 "metadata": {
  "kernelspec": {
   "display_name": "ir",
   "language": "python",
   "name": "python3"
  },
  "language_info": {
   "codemirror_mode": {
    "name": "ipython",
    "version": 3
   },
   "file_extension": ".py",
   "mimetype": "text/x-python",
   "name": "python",
   "nbconvert_exporter": "python",
   "pygments_lexer": "ipython3",
   "version": "3.10.14"
  }
 },
 "nbformat": 4,
 "nbformat_minor": 2
}
